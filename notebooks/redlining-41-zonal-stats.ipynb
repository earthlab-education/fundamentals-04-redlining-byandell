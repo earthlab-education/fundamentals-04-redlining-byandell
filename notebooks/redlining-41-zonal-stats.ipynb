{
 "cells": [
  {
   "cell_type": "markdown",
   "id": "c6d4416c-848e-45b9-b5f0-b22939521c17",
   "metadata": {},
   "source": [
    "# STEP 6: Calculate zonal statistics\n",
    "\n",
    "In order to evaluate the connection between vegetation health and\n",
    "redlining, we need to summarize NDVI across the same geographic areas as\n",
    "we have redlining information.\n",
    "\n",
    "First, import variables from previous notebooks:"
   ]
  },
  {
   "cell_type": "code",
   "execution_count": 17,
   "id": "8f1f6fdf",
   "metadata": {},
   "outputs": [],
   "source": [
    "store -r denver_redlining_gdf denver_ndvi_da denver_merged_das band_dict"
   ]
  },
  {
   "cell_type": "markdown",
   "id": "0892b3e0-9c80-4c96-bfd4-be5f96b47fb4",
   "metadata": {},
   "source": [
    "<link rel=\"stylesheet\" type=\"text/css\" href=\"./assets/styles.css\"><div class=\"callout callout-style-default callout-titled callout-task\"><div class=\"callout-header\"><div class=\"callout-icon-container\"><i class=\"callout-icon\"></i></div><div class=\"callout-title-container flex-fill\">Try It: Import packages</div></div><div class=\"callout-body-container callout-body\"><p>Some packages are included that will help you calculate statistics\n",
    "for areas imported below. Add packages for:</p>\n",
    "<ol type=\"1\">\n",
    "<li>Interactive plotting of tabular and vector data</li>\n",
    "<li>Working with categorical data in <code>DataFrame</code>s</li>\n",
    "</ol></div></div>"
   ]
  },
  {
   "cell_type": "code",
   "execution_count": 13,
   "id": "b78a7f16",
   "metadata": {},
   "outputs": [],
   "source": [
    "import os # Reproducible file paths\n",
    "import re # Extract metadata from file names\n",
    "import zipfile # Work with zip files\n",
    "from io import BytesIO # Stream binary (zip) files\n",
    "from glob import glob # Find files by pattern\n",
    "\n",
    "import numpy as np # Unpack bit-wise Fmask\n",
    "import matplotlib.pyplot as plt # Make subplots\n",
    "import requests # Request data over HTTP\n",
    "import rioxarray as rxr # Work with geospatial raster data\n",
    "import cartopy.crs as ccrs # CRSs"
   ]
  },
  {
   "cell_type": "code",
   "execution_count": 4,
   "id": "1962e9a6",
   "metadata": {
    "highlight": true
   },
   "outputs": [],
   "source": [
    "# Interactive plots with pandas\n",
    "# Ordered categorical data\n",
    "import regionmask # Convert shapefile to mask\n",
    "from xrspatial import zonal_stats # Calculate zonal statistics"
   ]
  },
  {
   "cell_type": "markdown",
   "id": "3a9e01b4-ccea-4b3f-9e7f-785db5177aed",
   "metadata": {},
   "source": [
    "<link rel=\"stylesheet\" type=\"text/css\" href=\"./assets/styles.css\"><div class=\"callout callout-style-default callout-titled callout-task\"><div class=\"callout-header\"><div class=\"callout-icon-container\"><i class=\"callout-icon\"></i></div><div class=\"callout-title-container flex-fill\">Try It: Convert vector to raster</div></div><div class=\"callout-body-container callout-body\"><p>You can convert your vector data to a raster mask using the\n",
    "<code>regionmask</code> package. You will need to give\n",
    "<code>regionmask</code> the geographic coordinates of the grid you are\n",
    "using for this to work:</p>\n",
    "<ol type=\"1\">\n",
    "<li>Replace <code>gdf</code> with your redlining\n",
    "<code>GeoDataFrame</code>.</li>\n",
    "<li>Add code to put your <code>GeoDataFrame</code> in the same CRS as\n",
    "your raster data.</li>\n",
    "<li>Replace <code>x_coord</code> and <code>y_coord</code> with the x and\n",
    "y coordinates from your raster data.</li>\n",
    "</ol></div></div>"
   ]
  },
  {
   "cell_type": "code",
   "execution_count": 22,
   "id": "f439984a",
   "metadata": {},
   "outputs": [],
   "source": [
    "redlining_plot_gdf = denver_redlining_gdf.to_crs(ccrs.Mercator())\n",
    "ndvi_plot_da = denver_ndvi_da.rio.reproject(ccrs.Mercator())\n",
    "band_plot_dict = {\n",
    "    name: da.rio.reproject(ccrs.Mercator())\n",
    "    for name, da in denver_merged_das.items()\n",
    "}"
   ]
  },
  {
   "cell_type": "code",
   "execution_count": 24,
   "id": "500d78f9",
   "metadata": {},
   "outputs": [
    {
     "data": {
      "text/plain": [
       "dict_keys(['green', 'red', 'aerosol', 'nir', 'thermalir2', 'thermalir1', 'blue', 'swir1', 'swir2', 'cirrus'])"
      ]
     },
     "execution_count": 24,
     "metadata": {},
     "output_type": "execute_result"
    }
   ],
   "source": [
    "band_dict.keys()"
   ]
  },
  {
   "cell_type": "code",
   "execution_count": 4,
   "id": "d71e0470",
   "metadata": {
    "highlight": true
   },
   "outputs": [
    {
     "ename": "NameError",
     "evalue": "name 'x_coord' is not defined",
     "output_type": "error",
     "traceback": [
      "\u001b[0;31m---------------------------------------------------------------------------\u001b[0m",
      "\u001b[0;31mNameError\u001b[0m                                 Traceback (most recent call last)",
      "Cell \u001b[0;32mIn[4], line 3\u001b[0m\n\u001b[1;32m      1\u001b[0m denver_redlining_mask \u001b[38;5;241m=\u001b[39m regionmask\u001b[38;5;241m.\u001b[39mmask_geopandas(\n\u001b[1;32m      2\u001b[0m     gdf,\n\u001b[0;32m----> 3\u001b[0m     \u001b[43mx_coord\u001b[49m, y_coord,\n\u001b[1;32m      4\u001b[0m     \u001b[38;5;66;03m# The regions do not overlap\u001b[39;00m\n\u001b[1;32m      5\u001b[0m     overlap\u001b[38;5;241m=\u001b[39m\u001b[38;5;28;01mFalse\u001b[39;00m,\n\u001b[1;32m      6\u001b[0m     \u001b[38;5;66;03m# We're not using geographic coordinates\u001b[39;00m\n\u001b[1;32m      7\u001b[0m     wrap_lon\u001b[38;5;241m=\u001b[39m\u001b[38;5;28;01mFalse\u001b[39;00m\n\u001b[1;32m      8\u001b[0m )\n",
      "\u001b[0;31mNameError\u001b[0m: name 'x_coord' is not defined"
     ]
    }
   ],
   "source": [
    "denver_redlining_mask = regionmask.mask_geopandas(\n",
    "    gdf,\n",
    "    x_coord, y_coord,\n",
    "    # The regions do not overlap\n",
    "    overlap=False,\n",
    "    # We're not using geographic coordinates\n",
    "    wrap_lon=False\n",
    ")"
   ]
  },
  {
   "cell_type": "markdown",
   "id": "e6f5fd47-953e-4a0b-8a06-79b9bc7203b2",
   "metadata": {},
   "source": [
    "<link rel=\"stylesheet\" type=\"text/css\" href=\"./assets/styles.css\"><div class=\"callout callout-style-default callout-titled callout-task\"><div class=\"callout-header\"><div class=\"callout-icon-container\"><i class=\"callout-icon\"></i></div><div class=\"callout-title-container flex-fill\">Try It: Calculate zonal statistics</div></div><div class=\"callout-body-container callout-body\"><p>Calculate zonal status using the <code>zonal_stats()</code> function.\n",
    "To figure out which arguments it needs, use either the\n",
    "<code>help()</code> function in Python, or search the internet.</p></div></div>"
   ]
  },
  {
   "cell_type": "code",
   "execution_count": 6,
   "id": "e3b82bef",
   "metadata": {
    "highlight": true
   },
   "outputs": [],
   "source": [
    "# Calculate NDVI stats for each redlining zone"
   ]
  },
  {
   "cell_type": "markdown",
   "id": "d14c6bd6-b3d4-4bd3-b880-190929833e3e",
   "metadata": {},
   "source": [
    "<link rel=\"stylesheet\" type=\"text/css\" href=\"./assets/styles.css\"><div class=\"callout callout-style-default callout-titled callout-task\"><div class=\"callout-header\"><div class=\"callout-icon-container\"><i class=\"callout-icon\"></i></div><div class=\"callout-title-container flex-fill\">Try It: Plot regional statistics</div></div><div class=\"callout-body-container callout-body\"><p>Plot the regional statistics:</p>\n",
    "<ol type=\"1\">\n",
    "<li>Merge the NDVI values into the redlining\n",
    "<code>GeoDataFrame</code>.</li>\n",
    "<li>Use the code template below to convert the <code>grade</code> column\n",
    "(<code>str</code> or <code>object</code> type) to an ordered\n",
    "<code>pd.Categorical</code> type. This will let you use ordered color\n",
    "maps with the grade data!</li>\n",
    "<li>Drop all <code>NA</code> grade values.</li>\n",
    "<li>Plot the NDVI and the redlining grade next to each other in linked\n",
    "subplots.</li>\n",
    "</ol></div></div>"
   ]
  },
  {
   "cell_type": "code",
   "execution_count": 8,
   "id": "7a0a1bc9",
   "metadata": {
    "highlight": true
   },
   "outputs": [],
   "source": [
    "# Merge the NDVI stats with redlining geometry into one `GeoDataFrame`\n",
    "\n",
    "# Change grade to ordered Categorical for plotting\n",
    "gdf.grade = pd.Categorical(\n",
    "    gdf.grade,\n",
    "    ordered=True,\n",
    "    categories=['A', 'B', 'C', 'D']\n",
    ")\n",
    "\n",
    "# Drop rows with NA grades\n",
    "denver_ndvi_gdf = denver_ndvi_gdf.dropna()\n",
    "\n",
    "# Plot NDVI and redlining grade in linked subplots"
   ]
  },
  {
   "cell_type": "code",
   "execution_count": 10,
   "id": "ed98342c",
   "metadata": {},
   "outputs": [],
   "source": [
    "store denver_ndvi_gdf"
   ]
  }
 ],
 "metadata": {
  "kernelspec": {
   "display_name": "earth-analytics-python",
   "language": "python",
   "name": "python3"
  },
  "language_info": {
   "codemirror_mode": {
    "name": "ipython",
    "version": 3
   },
   "file_extension": ".py",
   "mimetype": "text/x-python",
   "name": "python",
   "nbconvert_exporter": "python",
   "pygments_lexer": "ipython3",
   "version": "3.11.10"
  }
 },
 "nbformat": 4,
 "nbformat_minor": 5
}
